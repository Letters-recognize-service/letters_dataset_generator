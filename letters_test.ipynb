{
 "cells": [
  {
   "cell_type": "code",
   "execution_count": 11,
   "metadata": {},
   "outputs": [
    {
     "name": "stderr",
     "output_type": "stream",
     "text": [
      "\u001b[32m2023-11-01 13:23:02.155\u001b[0m | \u001b[34m\u001b[1mDEBUG   \u001b[0m | \u001b[36mwrite\u001b[0m:\u001b[36mwrite_pdf_linux\u001b[0m:\u001b[36m152\u001b[0m - \u001b[34m\u001b[1mSaved /home/mkoltunov/letters_dataset_generator/pdf/0.pdf\u001b[0m\n",
      "\u001b[32m2023-11-01 13:23:02.342\u001b[0m | \u001b[34m\u001b[1mDEBUG   \u001b[0m | \u001b[36mwrite\u001b[0m:\u001b[36mwrite_jpg\u001b[0m:\u001b[36m162\u001b[0m - \u001b[34m\u001b[1mSaved ./jpg/0.pdf_dir/\u001b[0m\n"
     ]
    }
   ],
   "source": [
    "from docx import Document\n",
    "from docx.shared import Mm, Pt, Cm\n",
    "from docx.enum.text import WD_LINE_SPACING, WD_ALIGN_PARAGRAPH\n",
    "from docx.enum.table import WD_CELL_VERTICAL_ALIGNMENT, WD_TABLE_ALIGNMENT\n",
    "import json\n",
    "import os\n",
    "from write import write_pdf_linux, write_jpg\n",
    "\n",
    "logo = 'samples/logo/1.png'\n",
    "header = 'Генеральному директору ООО \"Реальная компания\" А. А. Сидорову'\n",
    "reference_text = 'Уважаемый Иван Иванов!'\n",
    "main_text = ''\n",
    "with open('samples/intros.txt', 'r') as f:\n",
    "    main_text += f.readline()\n",
    "with open('samples/instructions.json', 'r') as f:\n",
    "    instr = json.load(f)\n",
    "    main_text += instr[0]['task_texts'][0]\n",
    "creator_title = 'Генеральный директор'\n",
    "creator_name = 'Созонов С.В.'\n",
    "signature = 'samples/signature/1.png'\n",
    "\n",
    "document = Document()\n",
    "\n",
    "# General doc settings\n",
    "style = document.styles['Normal']\n",
    "font = style.font\n",
    "p_format = style.paragraph_format\n",
    "font.name = \"Times New Roman\" # consts.font_name\n",
    "font.size = Pt(14) # consts.font_size\n",
    "p_format.line_spacing_rule = WD_LINE_SPACING.ONE_POINT_FIVE # consts.line_spacing\n",
    "\n",
    "for section in document.sections:\n",
    "    section.top_margin =  Mm(20) # consts.top_margin\n",
    "    section.bottom_margin = Mm(20) # consts.bottom_margin\n",
    "    section.left_margin = Mm(30) # consts.left_margin\n",
    "    section.right_margin = Mm(15) # consts.right_margin\n",
    "    \n",
    "# Header\n",
    "table = document.add_table(rows=1, cols=2)\n",
    "for cell in table.rows[0].cells:\n",
    "    tc = cell._element.tcPr\n",
    "    tc.left = None\n",
    "    tc.top = None\n",
    "    tc.right = None\n",
    "    tc.bottom = None\n",
    "    cell.vertical_alignment = WD_CELL_VERTICAL_ALIGNMENT.TOP\n",
    "    cell.paragraphs[0].alignment = WD_TABLE_ALIGNMENT.LEFT\n",
    "\n",
    "table.cell(0, 0).paragraphs[0].add_run().add_picture(logo, Mm(40), Mm(40))\n",
    "table.cell(0, 0).add_paragraph().add_run('№_____-______')\n",
    "\n",
    "header_cell = table.cell(0, 1)\n",
    "header_cell.paragraphs[0].add_run(header)\n",
    "header_cell.paragraphs[0].alignment = WD_TABLE_ALIGNMENT.RIGHT\n",
    "\n",
    "for c0, c1 in zip(table.columns[0].cells, table.columns[1].cells):\n",
    "    c0.width = Cm(11.0)\n",
    "    c1.width = Cm(5.0)\n",
    "\n",
    "# Reference\n",
    "ref = document.add_paragraph()\n",
    "ref.alignment = 1\n",
    "ref.add_run(reference_text)\n",
    "\n",
    "# Main part\n",
    "main = document.add_paragraph()\n",
    "main_fmt = main.paragraph_format\n",
    "main_fmt.alignment = WD_ALIGN_PARAGRAPH.JUSTIFY\n",
    "main_fmt.first_line_indent = Cm(1.25)\n",
    "main.add_run(main_text)\n",
    "\n",
    "# Footer\n",
    "foot_table = document.add_table(rows=1, cols=3)\n",
    "\n",
    "for cell in foot_table.rows[0].cells:\n",
    "    tc = cell._element.tcPr\n",
    "    tc.left = None\n",
    "    tc.top = None\n",
    "    tc.right = None\n",
    "    tc.bottom = None\n",
    "    cell.vertical_alignment = WD_CELL_VERTICAL_ALIGNMENT.TOP\n",
    "    cell.paragraphs[0].alignment = WD_TABLE_ALIGNMENT.LEFT\n",
    "\n",
    "for c0, c1, c2 in zip(foot_table.columns[0].cells, foot_table.columns[1].cells, foot_table.columns[2].cells):\n",
    "    c0.width = Cm(10.0)\n",
    "    c1.width = Cm(3.0)\n",
    "    c2.width = Cm(3.5)\n",
    "\n",
    "foot_table.cell(0, 0).paragraphs[0].add_run(creator_title)\n",
    "foot_table.cell(0, 0).paragraphs[0].alignment = WD_TABLE_ALIGNMENT.LEFT\n",
    "\n",
    "foot_table.cell(0, 1).paragraphs[0].add_run().add_picture(signature, Mm(30), Mm(20))\n",
    "foot_table.cell(0, 1).paragraphs[0].alignment = WD_TABLE_ALIGNMENT.RIGHT\n",
    "\n",
    "foot_table.cell(0, 2).paragraphs[0].add_run(creator_name)\n",
    "foot_table.cell(0, 2).paragraphs[0].alignment = WD_TABLE_ALIGNMENT.RIGHT\n",
    "\n",
    "out_dir = 'letters_out'\n",
    "\n",
    "document.save(os.path.join(out_dir, 'doc', 'letter.docx'))\n",
    "\n",
    "# write_pdf_linux('letter.docx', '.', 0)\n",
    "# write_jpg('.', 0)"
   ]
  },
  {
   "cell_type": "code",
   "execution_count": null,
   "metadata": {},
   "outputs": [],
   "source": [
    "# Кернел падает\n",
    "# import aspose.words as aw\n",
    "\n",
    "# # Load word document\n",
    "# doc = aw.Document(os.path.join(out_dir, 'doc', 'letter.docx'))\n",
    "\n",
    "# # Save as PDF\n",
    "# doc.save(os.path.join(out_dir, 'pdf', 'letter.pdf'))"
   ]
  },
  {
   "cell_type": "markdown",
   "metadata": {},
   "source": [
    "# docxtpl"
   ]
  },
  {
   "cell_type": "code",
   "execution_count": 13,
   "metadata": {},
   "outputs": [],
   "source": [
    "from docxtpl import DocxTemplate\n",
    "\n",
    "doc = DocxTemplate('letter.docx')\n",
    "context = {'sender': header,\n",
    "           'reciever': creator_name}\n",
    "doc.render(context)\n",
    "\n",
    "doc.save('letter1.docx')"
   ]
  },
  {
   "cell_type": "markdown",
   "metadata": {},
   "source": [
    "# lowritter"
   ]
  },
  {
   "cell_type": "code",
   "execution_count": null,
   "metadata": {},
   "outputs": [],
   "source": [
    "import subprocess\n",
    "import os\n",
    "\n",
    "wordfile = os.path.join(out_dir, 'doc', 'letter.docx')\n",
    "command = [\"lowriter\", \"--headless\", \"--convert-to\", \"pdf\", wordfile]\n",
    "subprocess.call(command)\n",
    "if os.path.exists(\"yourword.pdf\"):\n",
    "    print(\"Done\")"
   ]
  },
  {
   "cell_type": "markdown",
   "metadata": {},
   "source": [
    "# Spire.Doc"
   ]
  },
  {
   "cell_type": "code",
   "execution_count": 4,
   "metadata": {},
   "outputs": [],
   "source": [
    "# Spire.Doc\n",
    "from spire.doc import *\n",
    "from spire.doc import *\n",
    "\n",
    "spire_document = Document()\n",
    "\n",
    "spire_document.LoadFromFile(os.path.join(out_dir, 'doc', 'letter.docx'))\n",
    "\n",
    "spire_document.SaveToFile(os.path.join(out_dir, 'pdf', 'letter.pdf'), FileFormat.PDF)\n",
    "spire_document.Close()"
   ]
  }
 ],
 "metadata": {
  "kernelspec": {
   "display_name": "letters_gen",
   "language": "python",
   "name": "letters_gen"
  },
  "language_info": {
   "codemirror_mode": {
    "name": "ipython",
    "version": 3
   },
   "file_extension": ".py",
   "mimetype": "text/x-python",
   "name": "python",
   "nbconvert_exporter": "python",
   "pygments_lexer": "ipython3",
   "version": "3.10.0"
  }
 },
 "nbformat": 4,
 "nbformat_minor": 4
}
