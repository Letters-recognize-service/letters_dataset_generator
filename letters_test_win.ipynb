{
 "cells": [
  {
   "cell_type": "code",
   "execution_count": 2,
   "id": "a8f2b891-774b-4126-8490-336270e8cd2a",
   "metadata": {},
   "outputs": [],
   "source": [
    "from docx import Document\n",
    "from docx.shared import Mm, Pt, Cm\n",
    "from docx.enum.text import WD_LINE_SPACING, WD_ALIGN_PARAGRAPH, WD_UNDERLINE\n",
    "from docx.enum.table import WD_CELL_VERTICAL_ALIGNMENT, WD_TABLE_ALIGNMENT\n",
    "\n",
    "import numpy as np\n",
    "import json\n",
    "import os\n",
    "from random import randrange\n",
    "from datetime import timedelta, datetime\n",
    "\n",
    "from write import write_pdf_linux, write_jpg\n",
    "\n",
    "from pdf2jpg import pdf2jpg\n",
    "import pypdfium2 as pdfium\n",
    "\n",
    "import pymorphy2\n",
    "from faker import Faker"
   ]
  },
  {
   "cell_type": "code",
   "execution_count": 26,
   "id": "cd670b0e-3c58-45f0-9663-a3b525ff199a",
   "metadata": {},
   "outputs": [],
   "source": [
    "# f = Faker('ru_RU')\n",
    "# [f.company() for _ in range(30)]\n",
    "# a = 'Макаров Инк'\n",
    "# any([stop_word in a.lower() for stop_word in ['инк','лтд']])"
   ]
  },
  {
   "cell_type": "code",
   "execution_count": 275,
   "id": "5e9f6d61-e7ef-4199-909b-96ff0b4bffa1",
   "metadata": {},
   "outputs": [
    {
     "data": {
      "text/plain": [
       "'НПО «Лебедев»'"
      ]
     },
     "execution_count": 275,
     "metadata": {},
     "output_type": "execute_result"
    }
   ],
   "source": [
    "# fake.company()"
   ]
  },
  {
   "cell_type": "code",
   "execution_count": 217,
   "id": "3660479b-0bf8-425c-984d-2d738dd14ec8",
   "metadata": {},
   "outputs": [
    {
     "name": "stdout",
     "output_type": "stream",
     "text": [
      "['{Системный} {администратор} {{Сергеев}} {{Андрей}}', 'Сергеев', 'Андрей', '', 'Системный администратор', 'Служба ИТ']\n"
     ]
    },
    {
     "data": {
      "text/plain": [
       "Parse(word='сергееву', tag=OpencorporaTag('NOUN,anim,masc,Sgtm,Surn sing,datv'), normal_form='сергеев', score=1.0, methods_stack=((DictionaryAnalyzer(), 'сергееву', 37, 2),))"
      ]
     },
     "execution_count": 217,
     "metadata": {},
     "output_type": "execute_result"
    }
   ],
   "source": [
    "# morph.parse(header_sample[3])[0].inflect({'datv'}).word\n",
    "# adresat.title()\n",
    "morph = pymorphy2.MorphAnalyzer(lang='ru')\n",
    "sample = resp[np.random.choice(range(len(resp)))]\n",
    "print(sample)\n",
    "most_likely = morph.parse(sample[1])[0]\n",
    "for candidat in morph.parse(sample[1]):\n",
    "    if 'Surn' in candidat.tag or 'nomn' in candidat.tag: # 'Surn' 'Name', 'Patr'\n",
    "        most_likely = candidat\n",
    "        if {'Surn', 'nomn'} in candidat.tag:\n",
    "            break\n",
    "most_likely\n",
    "most_likely.inflect({'datv', 'sing'})"
   ]
  },
  {
   "cell_type": "code",
   "execution_count": 3,
   "id": "27d1810e-5da8-4503-aa13-bbb7f1dd86bb",
   "metadata": {},
   "outputs": [],
   "source": [
    "# формат json {'words': [], 'bbox': [[], []]}\n",
    "\n",
    "def generate_mail_data():\n",
    "    def random_date(start, end):\n",
    "        \"\"\"\n",
    "        This function will return a random datetime between two datetime \n",
    "        objects.\n",
    "        \"\"\"\n",
    "        delta = end - start\n",
    "        int_delta = (delta.days * 24 * 60 * 60) + delta.seconds\n",
    "        random_second = randrange(int_delta)\n",
    "        return start + timedelta(seconds=random_second)\n",
    "    \n",
    "    fake = Faker('ru_RU')\n",
    "    \n",
    "    # logo\n",
    "    logo = os.path.join('samples', 'logo', np.random.choice(os.listdir(os.path.join('samples', 'logo'))))\n",
    "    date = random_date(datetime.strptime('01.01.2000', '%d.%m.%Y'), datetime.strptime('01.11.2023', '%d.%m.%Y')).strftime('%d.%m.%Y')\n",
    "    mail_num = fake.postcode()\n",
    "    \n",
    "    # header\n",
    "    with open(os.path.join('samples', 'responsible.json'), 'r', encoding='utf-8') as f:\n",
    "        resp = json.load(f)\n",
    "        \n",
    "    morph = pymorphy2.MorphAnalyzer(lang='ru')\n",
    "    header_sample = resp[np.random.choice(np.arange(len(resp)))]\n",
    "    \n",
    "    title = ''\n",
    "    if np.random.random() > 0.5:\n",
    "        title_tokens = header_sample[4].split(' ')\n",
    "        if 'ADJF' in morph.parse(title_tokens[0])[0].tag:\n",
    "            title_tokens[0] = morph.parse(title_tokens[0])[0].inflect({'datv'}).word\n",
    "            title_tokens[1] = morph.parse(title_tokens[1])[0].inflect({'datv'}).word\n",
    "        else:\n",
    "            title_tokens[0] = morph.parse(title_tokens[0])[0].inflect({'datv'}).word\n",
    "        title = ' '.join(title_tokens)\n",
    "\n",
    "    adresat_tokens = header_sample[1:4]\n",
    "    adresat_part = ['Surn', 'Name', 'Patr']\n",
    "    ref_name = header_sample[1:4]\n",
    "    for i in range(len(adresat_tokens)):\n",
    "        if len(adresat_tokens[i]) > 0:\n",
    "            most_likely = morph.parse(adresat_tokens[i])[0]\n",
    "            for candidat in morph.parse(adresat_tokens[i]):\n",
    "                if adresat_part[i] in candidat.tag or 'nomn' in candidat.tag: # 'Surn' 'Name', 'Patr'\n",
    "                    most_likely = candidat\n",
    "                    if {adresat_part[i], 'nomn'} in candidat.tag:\n",
    "                        break\n",
    "            word_datv = most_likely.inflect({'datv', 'sing'})\n",
    "    \n",
    "            if word_datv:\n",
    "                adresat_tokens[i] = word_datv.word\n",
    "                ref_name[i] = most_likely.normal_form\n",
    "    \n",
    "    adresat = ' '.join(adresat_tokens)\n",
    "    \n",
    "    org = fake.company()\n",
    "    while any([stop_word in org.lower() for stop_word in ['инк','лтд']]):\n",
    "        org = fake.company()\n",
    "    \n",
    "    header = title.capitalize() + ' ' + org + ' ' + adresat.title() \n",
    "    \n",
    "    # reference\n",
    "    has_ref = True if np.random.random() > 0.5 else False\n",
    "    reference_text = ''\n",
    "    if has_ref:\n",
    "        reference_text = 'Уважаемый ' + ' '.join(ref_name).title() + '!'\n",
    "        \n",
    "    # main_text\n",
    "    main_text_samples = [\"\"\"Мы обращаемся к вам от имени Название вашей организации с важным сообщением. Мы хотели бы поделиться информацией о нашей компании и ее деятельности.\n",
    "Ваша организация является ведущей в своей отрасли и специализируется на указать область деятельности. Мы гордимся нашими достижениями и стремимся к постоянному развитию и инновациям.\n",
    "Мы предлагаем широкий спектр продуктов и услуг, которые удовлетворяют потребности наших клиентов. Наша команда состоит из высококвалифицированных специалистов, которые работают вместе, чтобы обеспечить высокое качество и превосходное обслуживание.\n",
    "Спасибо за ваше внимание и поддержку. Мы надеемся на возможность сотрудничества с вами.\"\"\", \n",
    "                \"\"\"Сообщаем Вам о том, что 15.07.2023 года в 10:00 состоится онлайн-конференция «Современные технологии и методы проектирования в машиностроении».\n",
    "Программа конференции:\n",
    "1. Введение в тему.\n",
    "2. Инновационные технологии проектирования машин.\n",
    "3. Применение современных CAD/CAM систем при проектировании механических конструкций.\n",
    "Для участия в конференции необходимо направить заявку на электронную почту адрес до 12.07.2023 года.\"\"\"]\n",
    "    main_text = np.random.choice(main_text_samples)\n",
    "    \n",
    "    # creator\n",
    "    footer_sample = resp[np.random.choice(np.arange(len(resp)))]\n",
    "    creator_title = footer_sample[4]\n",
    "    creator_name = footer_sample[1] + ' '\n",
    "    for tok in footer_sample[2:4]:\n",
    "        if bool(tok):\n",
    "            creator_name += tok[0] + '. '\n",
    "    \n",
    "    creator_name = creator_name.strip()\n",
    "    \n",
    "    # signature\n",
    "    signature = os.path.join('samples', 'signature', np.random.choice(os.listdir(os.path.join('samples', 'signature'))))\n",
    "    \n",
    "    # executor\n",
    "    \n",
    "    contact_type = np.random.choice(['mail', 'phone'])\n",
    "    executor_name = fake.name()\n",
    "    contact = fake.ascii_free_email() if contact_type == 'mail' else fake.phone_number()\n",
    "\n",
    "    return logo, date, mail_num, header, has_ref, reference_text, main_text, creator_title, creator_name, signature, executor_name, contact\n"
   ]
  },
  {
   "cell_type": "code",
   "execution_count": 7,
   "id": "0495016b-e8d8-40e4-910e-508bcb0a4569",
   "metadata": {},
   "outputs": [],
   "source": [
    "out_dir = 'letters_out'\n",
    "\n",
    "def generate_doc(filename): # без разрешения файла\n",
    "    logo, date, mail_num, header, has_ref, reference_text, main_text, creator_title, creator_name, signature, executor_name, contact = generate_mail_data()\n",
    "    document = Document()\n",
    "    \n",
    "    text_tokens = [header, date, mail_num, reference_text, main_text, creator_title, creator_name, executor_name, contact]\n",
    "    with open(os.path.join(out_dir, 'txt', f'{filename}.txt'), 'w') as f:\n",
    "        for tok in text_tokens:\n",
    "            if tok == text_tokens[-1]:\n",
    "                f.write(tok)\n",
    "            else:\n",
    "                for word in tok.split(' '):\n",
    "                    if len(word) > 0:\n",
    "                        f.write(word + '\\n')\n",
    "                    \n",
    "    # General doc settings\n",
    "    style = document.styles['Normal']\n",
    "    font = style.font\n",
    "    p_format = style.paragraph_format\n",
    "    font.name = \"Times New Roman\" # consts.font_name\n",
    "    font.size = Pt(14) # consts.font_size\n",
    "    p_format.line_spacing_rule = WD_LINE_SPACING.ONE_POINT_FIVE # consts.line_spacing\n",
    "    \n",
    "    for section in document.sections:\n",
    "        section.top_margin =  Mm(20) # consts.top_margin\n",
    "        section.bottom_margin = Mm(20) # consts.bottom_margin\n",
    "        section.left_margin = Mm(30) # consts.left_margin\n",
    "        section.right_margin = Mm(15) # consts.right_margin\n",
    "        \n",
    "    # Header\n",
    "    table = document.add_table(rows=1, cols=2)\n",
    "    for cell in table.rows[0].cells:\n",
    "        tc = cell._element.tcPr\n",
    "        tc.left = None\n",
    "        tc.top = None\n",
    "        tc.right = None\n",
    "        tc.bottom = None\n",
    "        cell.vertical_alignment = WD_CELL_VERTICAL_ALIGNMENT.TOP\n",
    "        cell.paragraphs[0].alignment = WD_TABLE_ALIGNMENT.LEFT\n",
    "    \n",
    "    table.cell(0, 0).paragraphs[0].add_run().add_picture(logo, Mm(40), Mm(40))\n",
    "    run = table.cell(0, 0).add_paragraph().add_run(f'{date} № {mail_num} ')\n",
    "    run.font.underline = True\n",
    "    run.font.size = Pt(10)\n",
    "    run = table.cell(0, 0).add_paragraph().add_run(f'на №        от        .')\n",
    "    run.font.underline = True\n",
    "    run.font.size = Pt(10)\n",
    "    \n",
    "    header_cell = table.cell(0, 1)\n",
    "    header_cell.paragraphs[0].add_run(header)\n",
    "    header_cell.paragraphs[0].alignment = WD_TABLE_ALIGNMENT.RIGHT\n",
    "    \n",
    "    for c0, c1 in zip(table.columns[0].cells, table.columns[1].cells):\n",
    "        c0.width = Cm(10.5)\n",
    "        c1.width = Cm(7.0)\n",
    "    \n",
    "    # Reference\n",
    "    if has_ref:\n",
    "        ref = document.add_paragraph()\n",
    "        ref.alignment = 1\n",
    "        ref.add_run(reference_text)\n",
    "    \n",
    "    # Main part\n",
    "    main = document.add_paragraph()\n",
    "    main_fmt = main.paragraph_format\n",
    "    main_fmt.alignment = WD_ALIGN_PARAGRAPH.JUSTIFY\n",
    "    main_fmt.first_line_indent = Cm(1.25)\n",
    "    main.add_run(main_text)\n",
    "    \n",
    "    # Footer\n",
    "    foot_table = document.add_table(rows=2, cols=3)\n",
    "    \n",
    "    for cell in foot_table.rows[0].cells:\n",
    "        tc = cell._element.tcPr\n",
    "        tc.left = None\n",
    "        tc.top = None\n",
    "        tc.right = None\n",
    "        tc.bottom = None\n",
    "        cell.vertical_alignment = WD_CELL_VERTICAL_ALIGNMENT.TOP\n",
    "        cell.paragraphs[0].alignment = WD_TABLE_ALIGNMENT.LEFT\n",
    "    \n",
    "    for c0, c1, c2 in zip(foot_table.columns[0].cells, foot_table.columns[1].cells, foot_table.columns[2].cells):\n",
    "        c0.width = Cm(10.0)\n",
    "        c1.width = Cm(3.0)\n",
    "        c2.width = Cm(4.0)\n",
    "    \n",
    "    foot_table.cell(0, 0).paragraphs[0].add_run(creator_title)\n",
    "    foot_table.cell(0, 0).paragraphs[0].alignment = WD_TABLE_ALIGNMENT.LEFT\n",
    "    \n",
    "    foot_table.cell(0, 1).paragraphs[0].add_run().add_picture(signature, Mm(30), Mm(20))\n",
    "    foot_table.cell(0, 1).paragraphs[0].alignment = WD_TABLE_ALIGNMENT.RIGHT\n",
    "    \n",
    "    foot_table.cell(0, 2).paragraphs[0].add_run(creator_name)\n",
    "    foot_table.cell(0, 2).paragraphs[0].alignment = WD_TABLE_ALIGNMENT.RIGHT\n",
    "    \n",
    "    \n",
    "    run = foot_table.cell(1, 0).paragraphs[0].add_run(executor_name + '\\n' + contact)\n",
    "    foot_table.cell(1, 0).paragraphs[0].alignment = WD_TABLE_ALIGNMENT.LEFT\n",
    "    run.font.size = Pt(10)\n",
    "    \n",
    "      \n",
    "    document.save(os.path.join(out_dir, 'doc', f'{filename}.docx'))\n",
    "\n",
    "# write_pdf_linux('letter.docx', '.', 0)\n",
    "# write_jpg('.', 0)"
   ]
  },
  {
   "cell_type": "code",
   "execution_count": 5,
   "id": "70b2b0a8-82f3-4852-8436-3a79aacfa48a",
   "metadata": {},
   "outputs": [],
   "source": [
    "# def generate_pdf(docx_path, filename):\n",
    "#     wdFormatPDF = 17\n",
    "#     docx_path = os.path.abspath(docx_path)\n",
    "#     out_file = os.path.abspath(os.path.join(out_dir, 'pdf', f'{filename}.pdf'))\n",
    "    \n",
    "#     word = comtypes.client.CreateObject('Word.Application')\n",
    "#     doc = word.Documents.Open(docx_path)\n",
    "#     doc.SaveAs(out_file, FileFormat=wdFormatPDF)\n",
    "#     doc.Close()\n",
    "#     word.Quit()\n",
    "def generate_pdf(docx_path, filename):\n",
    "    convert(docx_path, os.path.join(out_dir, 'pdf', f'{filename}.pdf'))\n",
    "def generate_jpg(pdf_path, filename):\n",
    "    pdf = pdfium.PdfDocument(pdf_path)\n",
    "\n",
    "    n_pages = len(pdf)\n",
    "    \n",
    "    for page_num in range(n_pages):\n",
    "        page = pdf.get_page(page_num)\n",
    "        pil_image = page.render(\n",
    "            scale=1,\n",
    "            rotation=0,\n",
    "            crop=(0, 0, 0, 0),\n",
    "            # colour=(255, 255, 255, 255),\n",
    "            # annotations=True,\n",
    "            # greyscale=False,\n",
    "            # optimise_mode=pdfium.OptimiseMode.NONE\n",
    "        ).to_pil()\n",
    "        pil_image.save(os.path.join(out_dir, 'jpg', f'{filename}_{page_num}.png'))\n",
    "    \n",
    "    pdf.close()"
   ]
  },
  {
   "cell_type": "code",
   "execution_count": 8,
   "id": "2799d0f4-622e-4c4b-ae58-b52f95abb4d2",
   "metadata": {},
   "outputs": [
    {
     "name": "stderr",
     "output_type": "stream",
     "text": [
      "  0%|                                                                                           | 0/10 [00:00<?, ?it/s]\n",
      "  0%|                                                                                            | 0/1 [00:00<?, ?it/s]\u001b[A\n",
      "100%|████████████████████████████████████████████████████████████████████████████████████| 1/1 [00:02<00:00,  2.50s/it]\u001b[A\n",
      " 10%|████████▎                                                                          | 1/10 [00:04<00:41,  4.60s/it]\n",
      "  0%|                                                                                            | 0/1 [00:00<?, ?it/s]\u001b[A\n",
      "100%|████████████████████████████████████████████████████████████████████████████████████| 1/1 [00:02<00:00,  2.92s/it]\u001b[A\n",
      " 20%|████████████████▌                                                                  | 2/10 [00:09<00:38,  4.85s/it]\n",
      "  0%|                                                                                            | 0/1 [00:00<?, ?it/s]\u001b[A\n",
      "100%|████████████████████████████████████████████████████████████████████████████████████| 1/1 [00:02<00:00,  2.91s/it]\u001b[A\n",
      " 30%|████████████████████████▉                                                          | 3/10 [00:14<00:34,  4.94s/it]\n",
      "  0%|                                                                                            | 0/1 [00:00<?, ?it/s]\u001b[A\n",
      "100%|████████████████████████████████████████████████████████████████████████████████████| 1/1 [00:02<00:00,  2.95s/it]\u001b[A\n",
      " 40%|█████████████████████████████████▏                                                 | 4/10 [00:19<00:29,  4.96s/it]\n",
      "  0%|                                                                                            | 0/1 [00:00<?, ?it/s]\u001b[A\n",
      "100%|████████████████████████████████████████████████████████████████████████████████████| 1/1 [00:02<00:00,  2.91s/it]\u001b[A\n",
      " 50%|█████████████████████████████████████████▌                                         | 5/10 [00:24<00:24,  4.98s/it]\n",
      "  0%|                                                                                            | 0/1 [00:00<?, ?it/s]\u001b[A\n",
      "100%|████████████████████████████████████████████████████████████████████████████████████| 1/1 [00:02<00:00,  2.70s/it]\u001b[A\n",
      " 60%|█████████████████████████████████████████████████▊                                 | 6/10 [00:29<00:19,  4.93s/it]\n",
      "  0%|                                                                                            | 0/1 [00:00<?, ?it/s]\u001b[A\n",
      "100%|████████████████████████████████████████████████████████████████████████████████████| 1/1 [00:02<00:00,  2.90s/it]\u001b[A\n",
      " 70%|██████████████████████████████████████████████████████████                         | 7/10 [00:34<00:14,  4.97s/it]\n",
      "  0%|                                                                                            | 0/1 [00:00<?, ?it/s]\u001b[A\n",
      "100%|████████████████████████████████████████████████████████████████████████████████████| 1/1 [00:01<00:00,  1.88s/it]\u001b[A\n",
      " 80%|██████████████████████████████████████████████████████████████████▍                | 8/10 [00:38<00:09,  4.63s/it]\n",
      "  0%|                                                                                            | 0/1 [00:00<?, ?it/s]\u001b[A\n",
      "100%|████████████████████████████████████████████████████████████████████████████████████| 1/1 [00:02<00:00,  2.88s/it]\u001b[A\n",
      " 90%|██████████████████████████████████████████████████████████████████████████▋        | 9/10 [00:43<00:04,  4.77s/it]\n",
      "  0%|                                                                                            | 0/1 [00:00<?, ?it/s]\u001b[A\n",
      "100%|████████████████████████████████████████████████████████████████████████████████████| 1/1 [00:02<00:00,  2.14s/it]\u001b[A\n",
      "100%|██████████████████████████████████████████████████████████████████████████████████| 10/10 [00:47<00:00,  4.77s/it]\n"
     ]
    }
   ],
   "source": [
    "import sys\n",
    "import os\n",
    "import comtypes.client\n",
    "from docx2pdf import convert\n",
    "from tqdm import tqdm\n",
    "# filename = 0\n",
    "for filename in tqdm(range(10)):\n",
    "    generate_doc(filename)\n",
    "    generate_pdf(os.path.join(out_dir, 'doc', f'{filename}.docx'), filename)\n",
    "    generate_jpg(os.path.join(out_dir, 'pdf', f'{filename}.pdf'), filename)\n",
    "    # coords, tokens = get_word_coords(os.path.join(out_dir, 'pdf', f'{filename}.pdf'))"
   ]
  },
  {
   "cell_type": "markdown",
   "id": "9762dd83-b1a3-47fa-8740-47c9312290a8",
   "metadata": {},
   "source": [
    "# Comtypes"
   ]
  },
  {
   "cell_type": "code",
   "execution_count": 2,
   "id": "b0bb1ef5-9e3b-4426-85c0-0a961bf2d31f",
   "metadata": {},
   "outputs": [
    {
     "name": "stdout",
     "output_type": "stream",
     "text": [
      "CPU times: total: 500 ms\n",
      "Wall time: 3.63 s\n"
     ]
    },
    {
     "data": {
      "text/plain": [
       "0"
      ]
     },
     "execution_count": 2,
     "metadata": {},
     "output_type": "execute_result"
    }
   ],
   "source": [
    "%%time\n",
    "import sys\n",
    "import os\n",
    "import comtypes.client\n",
    "\n",
    "wdFormatPDF = 17\n",
    "\n",
    "in_file = os.path.abspath(os.path.join(out_dir, 'doc', 'letter.docx'))\n",
    "out_file = os.path.abspath(os.path.join(out_dir, 'pdf', 'comtypes.pdf'))\n",
    "\n",
    "word = comtypes.client.CreateObject('Word.Application')\n",
    "doc = word.Documents.Open(in_file)\n",
    "doc.SaveAs(out_file, FileFormat=wdFormatPDF)\n",
    "doc.Close()\n",
    "word.Quit()\n",
    "\n",
    "# pdf2jpg.convert_pdf2jpg(out_file, os.path.join(out_dir, 'jpg', 'comtypes.jpg'), pages=\"ALL\")"
   ]
  },
  {
   "cell_type": "code",
   "execution_count": 3,
   "id": "b67dccdf-2199-4433-932f-118dfd7dd31d",
   "metadata": {},
   "outputs": [
    {
     "data": {
      "text/plain": [
       "True"
      ]
     },
     "execution_count": 3,
     "metadata": {},
     "output_type": "execute_result"
    }
   ],
   "source": [
    "pdf = pdfium.PdfDocument(os.path.join(out_dir, 'pdf', 'comtypes.pdf'))\n",
    "\n",
    "n_pages = len(pdf)\n",
    "\n",
    "for page_num in range(n_pages):\n",
    "    page = pdf.get_page(page_num)\n",
    "    pil_image = page.render(\n",
    "        scale=1,\n",
    "        rotation=0,\n",
    "        crop=(0, 0, 0, 0),\n",
    "        # colour=(255, 255, 255, 255),\n",
    "        # annotations=True,\n",
    "        # greyscale=False,\n",
    "        # optimise_mode=pdfium.OptimiseMode.NONE\n",
    "    ).to_pil()\n",
    "    pil_image.save(os.path.join(out_dir, 'jpg', f'comtypes_{page_num}.png'))\n",
    "\n",
    "pdf.close()"
   ]
  },
  {
   "cell_type": "markdown",
   "id": "b2925493-9a2b-4313-9749-0c71b127c97a",
   "metadata": {},
   "source": [
    "# Pywin32"
   ]
  },
  {
   "cell_type": "code",
   "execution_count": 4,
   "id": "8c7f14db-33df-4fb3-8b21-6d0389b050ff",
   "metadata": {},
   "outputs": [
    {
     "name": "stdout",
     "output_type": "stream",
     "text": [
      "CPU times: total: 31.2 ms\n",
      "Wall time: 2.82 s\n"
     ]
    }
   ],
   "source": [
    "%%time\n",
    "import sys\n",
    "import os\n",
    "import win32com.client\n",
    "\n",
    "wdFormatPDF = 17\n",
    "\n",
    "in_file = os.path.abspath(os.path.join(out_dir, 'doc', 'letter.docx'))\n",
    "out_file = os.path.abspath(os.path.join(out_dir, 'pdf', 'win32.pdf'))\n",
    "\n",
    "word = win32com.client.Dispatch('Word.Application')\n",
    "doc = word.Documents.Open(in_file)\n",
    "doc.SaveAs(out_file, FileFormat=wdFormatPDF)\n",
    "doc.Close()\n",
    "word.Quit()\n",
    "\n",
    "# pdf2jpg.convert_pdf2jpg(out_file, os.path.join(out_dir, 'jpg', 'win32.jpg'), pages=\"ALL\")"
   ]
  },
  {
   "cell_type": "markdown",
   "id": "d1ea0fa3-ea0d-41bf-88c5-bdbacb63d9ea",
   "metadata": {},
   "source": [
    "# Aspose.words\n",
    "\n",
    "оставляет вотермарку"
   ]
  },
  {
   "cell_type": "code",
   "execution_count": 5,
   "id": "a0dafe84-1176-488c-ad2b-3ac72d9a39a5",
   "metadata": {},
   "outputs": [
    {
     "name": "stdout",
     "output_type": "stream",
     "text": [
      "CPU times: total: 2.14 s\n",
      "Wall time: 3.51 s\n"
     ]
    },
    {
     "data": {
      "text/plain": [
       "<aspose.words.saving.SaveOutputParameters object at 0x0000023FE8E5C990>"
      ]
     },
     "execution_count": 5,
     "metadata": {},
     "output_type": "execute_result"
    }
   ],
   "source": [
    "%%time\n",
    "import aspose.words as aw\n",
    "\n",
    "# Load word document\n",
    "doc = aw.Document(os.path.join(out_dir, 'doc', 'letter.docx'))\n",
    "\n",
    "# Save as PDF\n",
    "doc.save(os.path.join(out_dir, 'pdf', 'aspose.pdf'))\n",
    "\n",
    "# pdf2jpg.convert_pdf2jpg(os.path.join(out_dir, 'pdf', 'aspose.pdf'), os.path.join(out_dir, 'jpg', 'aspose.jpg'), pages=\"ALL\")"
   ]
  },
  {
   "cell_type": "markdown",
   "id": "d83c5e38-b348-43fe-b174-b126842a84a8",
   "metadata": {},
   "source": [
    "# docx2pdf"
   ]
  },
  {
   "cell_type": "code",
   "execution_count": 6,
   "id": "61b23b4e-c95e-4f00-a2a3-1d1f53f7a69b",
   "metadata": {},
   "outputs": [
    {
     "name": "stderr",
     "output_type": "stream",
     "text": [
      "C:\\Users\\mkoltunov\\Projects\\letters_dataset_generator\\letters_gen_venv\\lib\\site-packages\\tqdm\\auto.py:21: TqdmWarning: IProgress not found. Please update jupyter and ipywidgets. See https://ipywidgets.readthedocs.io/en/stable/user_install.html\n",
      "  from .autonotebook import tqdm as notebook_tqdm\n",
      "100%|████████████████████████████████████████████████████████████████████████████████████████████████████████████| 1/1 [00:03<00:00,  3.03s/it]"
     ]
    },
    {
     "name": "stdout",
     "output_type": "stream",
     "text": [
      "CPU times: total: 109 ms\n",
      "Wall time: 5.05 s\n"
     ]
    },
    {
     "name": "stderr",
     "output_type": "stream",
     "text": [
      "\n"
     ]
    }
   ],
   "source": [
    "%%time\n",
    "from docx2pdf import convert\n",
    "\n",
    "convert(os.path.join(out_dir, 'doc', 'letter.docx'), os.path.join(out_dir, 'pdf', 'docx2pdf.pdf'))"
   ]
  },
  {
   "cell_type": "code",
   "execution_count": 7,
   "id": "0eab08a8-3be9-4974-8fd7-5a855bb6921e",
   "metadata": {},
   "outputs": [
    {
     "data": {
      "text/plain": [
       "True"
      ]
     },
     "execution_count": 7,
     "metadata": {},
     "output_type": "execute_result"
    }
   ],
   "source": [
    "pdf = pdfium.PdfDocument(os.path.join(out_dir, 'pdf', 'docx2pdf.pdf'))\n",
    "\n",
    "n_pages = len(pdf)\n",
    "\n",
    "for page_num in range(n_pages):\n",
    "    page = pdf.get_page(page_num)\n",
    "    pil_image = page.render(\n",
    "        scale=1,\n",
    "        rotation=0,\n",
    "        crop=(0, 0, 0, 0),\n",
    "    ).to_pil()\n",
    "    pil_image.save(os.path.join(out_dir, 'jpg', f'docx2pdf_{page_num}.png'))\n",
    "\n",
    "pdf.close()"
   ]
  },
  {
   "cell_type": "markdown",
   "id": "8e629df4-4ab7-4292-8a37-68291d3d486c",
   "metadata": {},
   "source": [
    "# pdf2image\n",
    "\n",
    "## Need to download a poppler https://github.com/oschwartz10612/poppler-windows/releases/"
   ]
  },
  {
   "cell_type": "code",
   "execution_count": 57,
   "id": "1d9c8f21-6a3a-43e3-ad74-d07c3093a953",
   "metadata": {},
   "outputs": [],
   "source": [
    "# need a poppler\n",
    "from pdf2image import convert_from_path\n",
    "\n",
    "images = convert_from_path(os.path.join(out_dir, 'pdf', '99.pdf'), poppler_path=r'poppler-23.11.0\\Library\\bin') # set your poppler path\n",
    "\n",
    "for i in range(len(images)):\n",
    "    images[i].save(os.path.join(out_dir, 'jpg', f'docx2pdf_{i}.jpg'), 'JPEG')\n"
   ]
  },
  {
   "cell_type": "code",
   "execution_count": 205,
   "id": "03686c58-774c-4cea-a695-be3dba10e36c",
   "metadata": {},
   "outputs": [
    {
     "data": {
      "text/plain": [
       "'letter'"
      ]
     },
     "execution_count": 205,
     "metadata": {},
     "output_type": "execute_result"
    }
   ],
   "source": [
    "os.path.basename(os.path.join(out_dir, 'pdf', 'letter.pdf')).split('.')[0]"
   ]
  }
 ],
 "metadata": {
  "kernelspec": {
   "display_name": "Python 3 (ipykernel)",
   "language": "python",
   "name": "python3"
  },
  "language_info": {
   "codemirror_mode": {
    "name": "ipython",
    "version": 3
   },
   "file_extension": ".py",
   "mimetype": "text/x-python",
   "name": "python",
   "nbconvert_exporter": "python",
   "pygments_lexer": "ipython3",
   "version": "3.10.11"
  }
 },
 "nbformat": 4,
 "nbformat_minor": 5
}
