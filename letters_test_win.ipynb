{
 "cells": [
  {
   "cell_type": "code",
   "execution_count": 1,
   "id": "0495016b-e8d8-40e4-910e-508bcb0a4569",
   "metadata": {},
   "outputs": [],
   "source": [
    "from docx import Document\n",
    "from docx.shared import Mm, Pt, Cm\n",
    "from docx.enum.text import WD_LINE_SPACING, WD_ALIGN_PARAGRAPH\n",
    "from docx.enum.table import WD_CELL_VERTICAL_ALIGNMENT, WD_TABLE_ALIGNMENT\n",
    "import json\n",
    "import os\n",
    "from write import write_pdf_linux, write_jpg\n",
    "from pdf2jpg import pdf2jpg\n",
    "import pypdfium2 as pdfium\n",
    "\n",
    "logo = 'samples/logo/1.png'\n",
    "header = 'Генеральному директору ООО \"Реальная компания\" А. А. Сидорову'\n",
    "reference_text = 'Уважаемый Иван Иванов!'\n",
    "main_text = ''\n",
    "with open('samples/intros.txt', 'r', encoding='utf-8') as f:\n",
    "    main_text += f.readline()\n",
    "with open('samples/instructions.json', 'r', encoding='utf-8') as f:\n",
    "    instr = json.load(f)\n",
    "    main_text += instr[0]['task_texts'][0]\n",
    "creator_title = 'Генеральный директор'\n",
    "creator_name = 'Созонов С.В.'\n",
    "signature = 'samples/signature/1.png'\n",
    "\n",
    "document = Document()\n",
    "\n",
    "# General doc settings\n",
    "style = document.styles['Normal']\n",
    "font = style.font\n",
    "p_format = style.paragraph_format\n",
    "font.name = \"Times New Roman\" # consts.font_name\n",
    "font.size = Pt(14) # consts.font_size\n",
    "p_format.line_spacing_rule = WD_LINE_SPACING.ONE_POINT_FIVE # consts.line_spacing\n",
    "\n",
    "for section in document.sections:\n",
    "    section.top_margin =  Mm(20) # consts.top_margin\n",
    "    section.bottom_margin = Mm(20) # consts.bottom_margin\n",
    "    section.left_margin = Mm(30) # consts.left_margin\n",
    "    section.right_margin = Mm(15) # consts.right_margin\n",
    "    \n",
    "# Header\n",
    "table = document.add_table(rows=1, cols=2)\n",
    "for cell in table.rows[0].cells:\n",
    "    tc = cell._element.tcPr\n",
    "    tc.left = None\n",
    "    tc.top = None\n",
    "    tc.right = None\n",
    "    tc.bottom = None\n",
    "    cell.vertical_alignment = WD_CELL_VERTICAL_ALIGNMENT.TOP\n",
    "    cell.paragraphs[0].alignment = WD_TABLE_ALIGNMENT.LEFT\n",
    "\n",
    "table.cell(0, 0).paragraphs[0].add_run().add_picture(logo, Mm(40), Mm(40))\n",
    "table.cell(0, 0).add_paragraph().add_run('№_____-______')\n",
    "\n",
    "header_cell = table.cell(0, 1)\n",
    "header_cell.paragraphs[0].add_run(header)\n",
    "header_cell.paragraphs[0].alignment = WD_TABLE_ALIGNMENT.RIGHT\n",
    "\n",
    "for c0, c1 in zip(table.columns[0].cells, table.columns[1].cells):\n",
    "    c0.width = Cm(11.0)\n",
    "    c1.width = Cm(5.0)\n",
    "\n",
    "# Reference\n",
    "ref = document.add_paragraph()\n",
    "ref.alignment = 1\n",
    "ref.add_run(reference_text)\n",
    "\n",
    "# Main part\n",
    "main = document.add_paragraph()\n",
    "main_fmt = main.paragraph_format\n",
    "main_fmt.alignment = WD_ALIGN_PARAGRAPH.JUSTIFY\n",
    "main_fmt.first_line_indent = Cm(1.25)\n",
    "main.add_run(main_text)\n",
    "\n",
    "# Footer\n",
    "foot_table = document.add_table(rows=1, cols=3)\n",
    "\n",
    "for cell in foot_table.rows[0].cells:\n",
    "    tc = cell._element.tcPr\n",
    "    tc.left = None\n",
    "    tc.top = None\n",
    "    tc.right = None\n",
    "    tc.bottom = None\n",
    "    cell.vertical_alignment = WD_CELL_VERTICAL_ALIGNMENT.TOP\n",
    "    cell.paragraphs[0].alignment = WD_TABLE_ALIGNMENT.LEFT\n",
    "\n",
    "for c0, c1, c2 in zip(foot_table.columns[0].cells, foot_table.columns[1].cells, foot_table.columns[2].cells):\n",
    "    c0.width = Cm(10.0)\n",
    "    c1.width = Cm(3.0)\n",
    "    c2.width = Cm(3.5)\n",
    "\n",
    "foot_table.cell(0, 0).paragraphs[0].add_run(creator_title)\n",
    "foot_table.cell(0, 0).paragraphs[0].alignment = WD_TABLE_ALIGNMENT.LEFT\n",
    "\n",
    "foot_table.cell(0, 1).paragraphs[0].add_run().add_picture(signature, Mm(30), Mm(20))\n",
    "foot_table.cell(0, 1).paragraphs[0].alignment = WD_TABLE_ALIGNMENT.RIGHT\n",
    "\n",
    "foot_table.cell(0, 2).paragraphs[0].add_run(creator_name)\n",
    "foot_table.cell(0, 2).paragraphs[0].alignment = WD_TABLE_ALIGNMENT.RIGHT\n",
    "\n",
    "out_dir = 'letters_out'\n",
    "\n",
    "document.save(os.path.join(out_dir, 'doc', 'letter.docx'))\n",
    "\n",
    "# write_pdf_linux('letter.docx', '.', 0)\n",
    "# write_jpg('.', 0)"
   ]
  },
  {
   "cell_type": "markdown",
   "id": "9762dd83-b1a3-47fa-8740-47c9312290a8",
   "metadata": {},
   "source": [
    "# Comtypes"
   ]
  },
  {
   "cell_type": "code",
   "execution_count": 2,
   "id": "b0bb1ef5-9e3b-4426-85c0-0a961bf2d31f",
   "metadata": {},
   "outputs": [
    {
     "name": "stdout",
     "output_type": "stream",
     "text": [
      "[WinError 2] Не удается найти указанный файл\n",
      "CPU times: total: 359 ms\n",
      "Wall time: 2.97 s\n"
     ]
    },
    {
     "data": {
      "text/plain": [
       "False"
      ]
     },
     "execution_count": 2,
     "metadata": {},
     "output_type": "execute_result"
    }
   ],
   "source": [
    "%%time\n",
    "import sys\n",
    "import os\n",
    "import comtypes.client\n",
    "\n",
    "wdFormatPDF = 17\n",
    "\n",
    "in_file = os.path.abspath(os.path.join(out_dir, 'doc', 'letter.docx'))\n",
    "out_file = os.path.abspath(os.path.join(out_dir, 'pdf', 'comtypes.pdf'))\n",
    "\n",
    "word = comtypes.client.CreateObject('Word.Application')\n",
    "doc = word.Documents.Open(in_file)\n",
    "doc.SaveAs(out_file, FileFormat=wdFormatPDF)\n",
    "doc.Close()\n",
    "word.Quit()\n",
    "\n",
    "pdf2jpg.convert_pdf2jpg(out_file, os.path.join(out_dir, 'jpg', 'comtypes.jpg'), pages=\"ALL\")"
   ]
  },
  {
   "cell_type": "code",
   "execution_count": 3,
   "id": "b67dccdf-2199-4433-932f-118dfd7dd31d",
   "metadata": {},
   "outputs": [
    {
     "data": {
      "text/plain": [
       "True"
      ]
     },
     "execution_count": 3,
     "metadata": {},
     "output_type": "execute_result"
    }
   ],
   "source": [
    "pdf = pdfium.PdfDocument(os.path.join(out_dir, 'pdf', 'comtypes.pdf'))\n",
    "\n",
    "n_pages = len(pdf)\n",
    "\n",
    "for page_num in range(n_pages):\n",
    "    page = pdf.get_page(page_num)\n",
    "    pil_image = page.render(\n",
    "        scale=1,\n",
    "        rotation=0,\n",
    "        crop=(0, 0, 0, 0),\n",
    "        # colour=(255, 255, 255, 255),\n",
    "        # annotations=True,\n",
    "        # greyscale=False,\n",
    "        # optimise_mode=pdfium.OptimiseMode.NONE\n",
    "    ).to_pil()\n",
    "    pil_image.save(os.path.join(out_dir, 'jpg', f'comtypes_{page_num}.png'))\n",
    "\n",
    "pdf.close()"
   ]
  },
  {
   "cell_type": "markdown",
   "id": "b2925493-9a2b-4313-9749-0c71b127c97a",
   "metadata": {},
   "source": [
    "# Pywin32"
   ]
  },
  {
   "cell_type": "code",
   "execution_count": 4,
   "id": "8c7f14db-33df-4fb3-8b21-6d0389b050ff",
   "metadata": {},
   "outputs": [
    {
     "name": "stdout",
     "output_type": "stream",
     "text": [
      "CPU times: total: 15.6 ms\n",
      "Wall time: 2.51 s\n"
     ]
    }
   ],
   "source": [
    "%%time\n",
    "import sys\n",
    "import os\n",
    "import win32com.client\n",
    "\n",
    "wdFormatPDF = 17\n",
    "\n",
    "in_file = os.path.abspath(os.path.join(out_dir, 'doc', 'letter.docx'))\n",
    "out_file = os.path.abspath(os.path.join(out_dir, 'pdf', 'win32.pdf'))\n",
    "\n",
    "word = win32com.client.Dispatch('Word.Application')\n",
    "doc = word.Documents.Open(in_file)\n",
    "doc.SaveAs(out_file, FileFormat=wdFormatPDF)\n",
    "doc.Close()\n",
    "word.Quit()\n",
    "\n",
    "# pdf2jpg.convert_pdf2jpg(out_file, os.path.join(out_dir, 'jpg', 'win32.jpg'), pages=\"ALL\")"
   ]
  },
  {
   "cell_type": "markdown",
   "id": "d1ea0fa3-ea0d-41bf-88c5-bdbacb63d9ea",
   "metadata": {},
   "source": [
    "# Aspose.words\n",
    "\n",
    "оставляет вотермарку"
   ]
  },
  {
   "cell_type": "code",
   "execution_count": 5,
   "id": "a0dafe84-1176-488c-ad2b-3ac72d9a39a5",
   "metadata": {},
   "outputs": [
    {
     "name": "stdout",
     "output_type": "stream",
     "text": [
      "CPU times: total: 1.64 s\n",
      "Wall time: 2.53 s\n"
     ]
    },
    {
     "data": {
      "text/plain": [
       "<aspose.words.saving.SaveOutputParameters object at 0x000001FBE3419FD0>"
      ]
     },
     "execution_count": 5,
     "metadata": {},
     "output_type": "execute_result"
    }
   ],
   "source": [
    "%%time\n",
    "import aspose.words as aw\n",
    "\n",
    "# Load word document\n",
    "doc = aw.Document(os.path.join(out_dir, 'doc', 'letter.docx'))\n",
    "\n",
    "# Save as PDF\n",
    "doc.save(os.path.join(out_dir, 'pdf', 'aspose.pdf'))\n",
    "\n",
    "# pdf2jpg.convert_pdf2jpg(os.path.join(out_dir, 'pdf', 'aspose.pdf'), os.path.join(out_dir, 'jpg', 'aspose.jpg'), pages=\"ALL\")"
   ]
  },
  {
   "cell_type": "markdown",
   "id": "d83c5e38-b348-43fe-b174-b126842a84a8",
   "metadata": {},
   "source": [
    "# docx2pdf"
   ]
  },
  {
   "cell_type": "code",
   "execution_count": 6,
   "id": "61b23b4e-c95e-4f00-a2a3-1d1f53f7a69b",
   "metadata": {},
   "outputs": [
    {
     "name": "stderr",
     "output_type": "stream",
     "text": [
      "C:\\Users\\mkoltunov\\Projects\\letters_dataset_generator\\letters_gen_venv\\lib\\site-packages\\tqdm\\auto.py:21: TqdmWarning: IProgress not found. Please update jupyter and ipywidgets. See https://ipywidgets.readthedocs.io/en/stable/user_install.html\n",
      "  from .autonotebook import tqdm as notebook_tqdm\n",
      "100%|████████████████████████████████████████████████████████████████████████████████████████████████████████████| 1/1 [00:02<00:00,  2.38s/it]"
     ]
    },
    {
     "name": "stdout",
     "output_type": "stream",
     "text": [
      "CPU times: total: 15.6 ms\n",
      "Wall time: 4.21 s\n"
     ]
    },
    {
     "name": "stderr",
     "output_type": "stream",
     "text": [
      "\n"
     ]
    }
   ],
   "source": [
    "%%time\n",
    "from docx2pdf import convert\n",
    "\n",
    "convert(os.path.join(out_dir, 'doc', 'letter.docx'), os.path.join(out_dir, 'pdf', 'docx2pdf.pdf'))"
   ]
  },
  {
   "cell_type": "code",
   "execution_count": 7,
   "id": "0eab08a8-3be9-4974-8fd7-5a855bb6921e",
   "metadata": {},
   "outputs": [
    {
     "data": {
      "text/plain": [
       "True"
      ]
     },
     "execution_count": 7,
     "metadata": {},
     "output_type": "execute_result"
    }
   ],
   "source": [
    "pdf = pdfium.PdfDocument(os.path.join(out_dir, 'pdf', 'docx2pdf.pdf'))\n",
    "\n",
    "n_pages = len(pdf)\n",
    "\n",
    "for page_num in range(n_pages):\n",
    "    page = pdf.get_page(page_num)\n",
    "    pil_image = page.render(\n",
    "        scale=1,\n",
    "        rotation=0,\n",
    "        crop=(0, 0, 0, 0),\n",
    "    ).to_pil()\n",
    "    pil_image.save(os.path.join(out_dir, 'jpg', f'docx2pdf_{page_num}.png'))\n",
    "\n",
    "pdf.close()"
   ]
  },
  {
   "cell_type": "markdown",
   "id": "8e629df4-4ab7-4292-8a37-68291d3d486c",
   "metadata": {},
   "source": [
    "# pdf2image\n",
    "\n",
    "## Need to install a poppler https://github.com/oschwartz10612/poppler-windows/releases/"
   ]
  },
  {
   "cell_type": "code",
   "execution_count": 8,
   "id": "1d9c8f21-6a3a-43e3-ad74-d07c3093a953",
   "metadata": {},
   "outputs": [],
   "source": [
    "# need a poppler\n",
    "from pdf2image import convert_from_path\n",
    "\n",
    "images = convert_from_path(os.path.join(out_dir, 'pdf', 'docx2pdf.pdf'), poppler_path=r'poppler-23.11.0\\Library\\bin') # set your poppler path\n",
    "\n",
    "for i in range(len(images)):\n",
    "    images[i].save(os.path.join(out_dir, 'jpg', f'docx2pdf_{i}.jpg'), 'JPEG')\n"
   ]
  }
 ],
 "metadata": {
  "kernelspec": {
   "display_name": "Python 3 (ipykernel)",
   "language": "python",
   "name": "python3"
  },
  "language_info": {
   "codemirror_mode": {
    "name": "ipython",
    "version": 3
   },
   "file_extension": ".py",
   "mimetype": "text/x-python",
   "name": "python",
   "nbconvert_exporter": "python",
   "pygments_lexer": "ipython3",
   "version": "3.10.11"
  }
 },
 "nbformat": 4,
 "nbformat_minor": 5
}
